{
 "cells": [
  {
   "cell_type": "code",
   "execution_count": 1,
   "id": "8eac2fd2",
   "metadata": {},
   "outputs": [],
   "source": [
    "# Import the random module.\n",
    "import random"
   ]
  },
  {
   "cell_type": "code",
   "execution_count": 3,
   "id": "6391064f",
   "metadata": {},
   "outputs": [
    {
     "data": {
      "text/plain": [
       "7"
      ]
     },
     "execution_count": 3,
     "metadata": {},
     "output_type": "execute_result"
    }
   ],
   "source": [
    "#The randint() Function\n",
    "random.randint(-90,90)"
   ]
  },
  {
   "cell_type": "code",
   "execution_count": 4,
   "id": "aec30305",
   "metadata": {},
   "outputs": [
    {
     "data": {
      "text/plain": [
       "0.5021468613495583"
      ]
     },
     "execution_count": 4,
     "metadata": {},
     "output_type": "execute_result"
    }
   ],
   "source": [
    "#The random() Function\n",
    "random.random()"
   ]
  },
  {
   "cell_type": "code",
   "execution_count": 6,
   "id": "f35b3b2d",
   "metadata": {},
   "outputs": [
    {
     "data": {
      "text/plain": [
       "[-43.47316051708354,\n",
       " 44.29558751555797,\n",
       " -73.01642100354879,\n",
       " -48.42821145271892,\n",
       " -44.939708887885644,\n",
       " -1.2573059231239037,\n",
       " 65.04305982784952,\n",
       " 6.057154424346498,\n",
       " -28.081077226231987,\n",
       " 67.56372985515513]"
      ]
     },
     "execution_count": 6,
     "metadata": {},
     "output_type": "execute_result"
    }
   ],
   "source": [
    "#Combine randit and random function for latitude\n",
    "x = 1\n",
    "latitudes = []\n",
    "while x < 11:\n",
    "    random_lat = random.randint(-90, 89) + random.random()\n",
    "    latitudes.append(random_lat)\n",
    "    x += 1\n",
    "    \n",
    "latitudes"
   ]
  },
  {
   "cell_type": "code",
   "execution_count": 7,
   "id": "b2bafe70",
   "metadata": {},
   "outputs": [
    {
     "data": {
      "text/plain": [
       "62"
      ]
     },
     "execution_count": 7,
     "metadata": {},
     "output_type": "execute_result"
    }
   ],
   "source": [
    "#The randrange() Function, difference between each is 1\n",
    "random.randrange(-90,90, step=1)"
   ]
  },
  {
   "cell_type": "code",
   "execution_count": 8,
   "id": "0d875832",
   "metadata": {},
   "outputs": [
    {
     "data": {
      "text/plain": [
       "30"
      ]
     },
     "execution_count": 8,
     "metadata": {},
     "output_type": "execute_result"
    }
   ],
   "source": [
    "#The randrange() Function, difference between each is 3\n",
    "random.randrange(-90,90, step=3)"
   ]
  },
  {
   "cell_type": "code",
   "execution_count": 9,
   "id": "07dc989d",
   "metadata": {},
   "outputs": [
    {
     "data": {
      "text/plain": [
       "72.24841173914248"
      ]
     },
     "execution_count": 9,
     "metadata": {},
     "output_type": "execute_result"
    }
   ],
   "source": [
    "#The uniform() Function, allow floating decimals between desired numbers. Best for latitude and longitude\n",
    "random.uniform(-90, 90)"
   ]
  },
  {
   "cell_type": "code",
   "execution_count": 10,
   "id": "a3d9273c",
   "metadata": {},
   "outputs": [],
   "source": [
    "# Import the NumPy module. NumPy module has a built-in random module, and supplements the built-in Python random module\n",
    "import numpy as np"
   ]
  },
  {
   "cell_type": "code",
   "execution_count": 11,
   "id": "c88aa0aa",
   "metadata": {},
   "outputs": [
    {
     "data": {
      "text/plain": [
       "34.33295416192571"
      ]
     },
     "execution_count": 11,
     "metadata": {},
     "output_type": "execute_result"
    }
   ],
   "source": [
    "#NumPy random and uniform combined\n",
    "np.random.uniform(-90.000, 90.000)"
   ]
  },
  {
   "cell_type": "code",
   "execution_count": 12,
   "id": "287ac3f4",
   "metadata": {},
   "outputs": [
    {
     "data": {
      "text/plain": [
       "-38.98379780180223"
      ]
     },
     "execution_count": 12,
     "metadata": {},
     "output_type": "execute_result"
    }
   ],
   "source": [
    "#NumPy random and uniform combined. Second way to write\n",
    "np.random.uniform(low=-90, high=90)"
   ]
  },
  {
   "cell_type": "code",
   "execution_count": 13,
   "id": "f072a0da",
   "metadata": {},
   "outputs": [
    {
     "data": {
      "text/plain": [
       "array([ 13.7279735 ,  23.40527818, -33.67963715, -45.67310391,\n",
       "        40.45489237,  55.5985082 ,  41.86395401, -63.85431098,\n",
       "        60.91478479,  55.11168538,  27.30552554,  -2.9049281 ,\n",
       "       -48.84595624,  66.19785547,   4.16067549,  20.31293925,\n",
       "        66.43475906,  86.25003015,   6.28326265, -48.58947285,\n",
       "        -0.8204547 , -57.31011863,  -8.18093177,  81.57315043,\n",
       "        -2.31945572, -74.04565903,  68.94837067,   6.98005925,\n",
       "       -82.3203373 , -21.41728817, -71.54156911, -64.38904654,\n",
       "        53.60068097,  83.03744826, -33.48132183, -67.77771687,\n",
       "         1.25344955,  38.23413351,  25.39791482,  42.16981141,\n",
       "        84.34822063,  87.2163308 ,  -7.08237342,  87.34800512,\n",
       "        72.9070195 , -76.05611533,  28.85666773, -43.17006814,\n",
       "        67.95994256,  14.78193542])"
      ]
     },
     "execution_count": 13,
     "metadata": {},
     "output_type": "execute_result"
    }
   ],
   "source": [
    "#NumPy random and uniform combined. Adds size parameter of 50 to generate 50 numbers.\n",
    "np.random.uniform(-90.000, 90.000, size=50)"
   ]
  },
  {
   "cell_type": "code",
   "execution_count": 14,
   "id": "f65e5f62",
   "metadata": {},
   "outputs": [],
   "source": [
    "# Import timeit. To test how long a piece of code or function takes to run\n",
    "import timeit"
   ]
  },
  {
   "cell_type": "code",
   "execution_count": 15,
   "id": "89f177a4",
   "metadata": {},
   "outputs": [
    {
     "name": "stdout",
     "output_type": "stream",
     "text": [
      "26.3 µs ± 2.97 µs per loop (mean ± std. dev. of 7 runs, 10,000 loops each)\n"
     ]
    }
   ],
   "source": [
    "#NumPy random and uniform combined. Adds size parameter of 1500 to generate 1550 numbers. Displays how long it took to run.\n",
    "%timeit np.random.uniform(-90.000, 90.000, size=1500)"
   ]
  },
  {
   "cell_type": "code",
   "execution_count": 16,
   "id": "fb10b221",
   "metadata": {},
   "outputs": [
    {
     "name": "stdout",
     "output_type": "stream",
     "text": [
      "3.61 ms ± 463 µs per loop (mean ± std. dev. of 7 runs, 100 loops each)\n"
     ]
    }
   ],
   "source": [
    "#Run the while loop as a function instead of random numbers and uniform combined\n",
    "def latitudes(size):\n",
    "    latitudes = []\n",
    "    x = 0\n",
    "    while x < (size):\n",
    "        random_lat = random.randint(-90, 90) + random.random()\n",
    "        latitudes.append(random_lat)\n",
    "        x += 1\n",
    "    return latitudes\n",
    "# Call the function with 1500.\n",
    "%timeit latitudes(1500)"
   ]
  },
  {
   "cell_type": "code",
   "execution_count": null,
   "id": "dcb953b0",
   "metadata": {},
   "outputs": [],
   "source": []
  }
 ],
 "metadata": {
  "kernelspec": {
   "display_name": "PythonData",
   "language": "python",
   "name": "pythondata"
  },
  "language_info": {
   "codemirror_mode": {
    "name": "ipython",
    "version": 3
   },
   "file_extension": ".py",
   "mimetype": "text/x-python",
   "name": "python",
   "nbconvert_exporter": "python",
   "pygments_lexer": "ipython3",
   "version": "3.9.12"
  }
 },
 "nbformat": 4,
 "nbformat_minor": 5
}
